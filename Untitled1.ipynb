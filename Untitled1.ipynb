{
  "nbformat": 4,
  "nbformat_minor": 0,
  "metadata": {
    "colab": {
      "provenance": [],
      "authorship_tag": "ABX9TyMnSPWeW2qawW0Iwx0F8JYF",
      "include_colab_link": true
    },
    "kernelspec": {
      "name": "python3",
      "display_name": "Python 3"
    },
    "language_info": {
      "name": "python"
    }
  },
  "cells": [
    {
      "cell_type": "markdown",
      "metadata": {
        "id": "view-in-github",
        "colab_type": "text"
      },
      "source": [
        "<a href=\"https://colab.research.google.com/github/YuraAn/dream-car/blob/main/Untitled1.ipynb\" target=\"_parent\"><img src=\"https://colab.research.google.com/assets/colab-badge.svg\" alt=\"Open In Colab\"/></a>"
      ]
    },
    {
      "cell_type": "code",
      "source": [
        "S = list(map(int, input().split()))\n",
        "n = S[0]\n",
        "m = int(n+1)\n",
        "a = [list(map(float,input().split())) for i in range(n)]\n",
        "def MatrixLambda (n, m, A,i,l): \n",
        "    for p in range(m):\n",
        "        A[i][p]=A[i][p]*l        \n",
        "    return A\n",
        "def MatrixTwoLines (n, m, A,i,j): \n",
        "    for p in range(m):\n",
        "        A[i][p]=A[i][p]-A[j][p]\n",
        "    return A\n",
        "def gauss(A,n,m):\n",
        "    for k in range (n):\n",
        "        for i in range (n):\n",
        "            if A[i][k] !=0:\n",
        "                l=A[k][k]/A[i][k]\n",
        "                MatrixLambda (n, m, A,i,l)\n",
        "                if i !=k:\n",
        "                    MatrixTwoLines (n, m, A,i,k)\n",
        "            else: break\n",
        "    for p in range(n):\n",
        "        MatrixLambda (n, m, A,p,1/A[p][p])\n",
        "gauss(a,n,m)\n",
        "for i in range(n):\n",
        "    print(\"x\"+str(i+1)+\" = \"+ str(a[i][m-1]))"
      ],
      "metadata": {
        "colab": {
          "base_uri": "https://localhost:8080/"
        },
        "id": "z1fcETRLpAJS",
        "outputId": "82191362-db32-46f6-ed98-95531487c870"
      },
      "execution_count": 5,
      "outputs": [
        {
          "output_type": "stream",
          "name": "stdout",
          "text": [
            "5\n",
            "3 7 5 2 -4 6\n",
            "1 2 -3 17 6 6\n",
            "-2 3 3 -7 4 -12\n",
            "6 12 1 -2 8 13\n",
            "1 -14 15 7 8 9\n",
            "x1 = 3.7074871378283234\n",
            "x2 = -0.6442594096940161\n",
            "x3 = -0.28486325480638985\n",
            "x4 = 0.19719740048740855\n",
            "x5 = -0.104318981857568\n"
          ]
        }
      ]
    }
  ]
}